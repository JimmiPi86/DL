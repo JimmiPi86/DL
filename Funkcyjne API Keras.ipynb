{
 "cells": [
  {
   "cell_type": "code",
   "execution_count": 1,
   "id": "1501fd38",
   "metadata": {},
   "outputs": [
    {
     "name": "stdout",
     "output_type": "stream",
     "text": [
      "2.9.1\n",
      "1e-07\n"
     ]
    }
   ],
   "source": [
    "import tensorflow as tf\n",
    "print(tf.__version__)\n",
    "from tensorflow.keras import backend as K\n",
    "print(K.epsilon())\n",
    "import numpy as np\n",
    "from tensorflow.keras.datasets import mnist\n",
    "import matplotlib.pyplot as plt\n",
    "from tensorflow.keras.models import Model\n",
    "from tensorflow.keras.layers import Dense, Activation, Dropout, Input\n",
    "from tensorflow.keras.utils import to_categorical\n",
    "from tensorflow.keras.layers import Conv2D, MaxPooling2D, Flatten"
   ]
  },
  {
   "cell_type": "code",
   "execution_count": 2,
   "id": "b3812222",
   "metadata": {},
   "outputs": [],
   "source": [
    "'''MNIST DATASET - Ładowane tak jak poprzednio'''\n",
    "(X_train,y_train),(X_test,y_test) = mnist.load_data()"
   ]
  },
  {
   "cell_type": "code",
   "execution_count": 3,
   "id": "715e39bb",
   "metadata": {},
   "outputs": [
    {
     "name": "stdout",
     "output_type": "stream",
     "text": [
      "Ilość etykiet:  10\n"
     ]
    }
   ],
   "source": [
    "num_labels = len(np.unique(y_train))\n",
    "print('Ilość etykiet: ',num_labels)\n",
    "\n",
    "#Konwersja na One-hot-encoding\n",
    "\n",
    "y_train = to_categorical(y_train) \n",
    "y_test = to_categorical(y_test)\n"
   ]
  },
  {
   "cell_type": "code",
   "execution_count": 4,
   "id": "6715c420",
   "metadata": {},
   "outputs": [],
   "source": [
    "image_size = X_train.shape[1]\n",
    "X_train = np.reshape(X_train,[-1,image_size,image_size,1])\n",
    "X_test = np.reshape(X_test,[-1,image_size,image_size,1])\n",
    "\n",
    "X_train = X_train.astype('float32')/255\n",
    "X_test = X_test.astype('float32')/255"
   ]
  },
  {
   "cell_type": "markdown",
   "id": "0ad1c861",
   "metadata": {},
   "source": [
    "### Parametry sieci "
   ]
  },
  {
   "cell_type": "code",
   "execution_count": 5,
   "id": "d8f3203d",
   "metadata": {},
   "outputs": [],
   "source": [
    "input_shape = (image_size,image_size,1)\n",
    "batch_size = 128\n",
    "kernel_size = 3\n",
    "filters = 64\n",
    "dropout = 0.3"
   ]
  },
  {
   "cell_type": "markdown",
   "id": "235222d3",
   "metadata": {},
   "source": [
    "# <font color=\"red\"> Do tego momentu kod odpowiadał klasycznej CNN</font>\n",
    "## <font color=\"blue\"> Teraz przechodzę na funkcyjne API Kerasa</font>"
   ]
  },
  {
   "cell_type": "code",
   "execution_count": 6,
   "id": "57d253de",
   "metadata": {},
   "outputs": [],
   "source": [
    "inputs = Input(shape = input_shape)\n",
    "y = Conv2D(filters=filters, kernel_size=kernel_size,activation='relu')(inputs)"
   ]
  },
  {
   "cell_type": "code",
   "execution_count": 9,
   "id": "0d9888a1",
   "metadata": {},
   "outputs": [
    {
     "data": {
      "text/plain": [
       "<KerasTensor: shape=(None, 28, 28, 1) dtype=float32 (created by layer 'input_1')>"
      ]
     },
     "execution_count": 9,
     "metadata": {},
     "output_type": "execute_result"
    }
   ],
   "source": [
    "inputs"
   ]
  },
  {
   "cell_type": "code",
   "execution_count": 7,
   "id": "0f0b8455",
   "metadata": {},
   "outputs": [],
   "source": [
    "y = MaxPooling2D()(y)\n",
    "y = Conv2D(filters=filters,\n",
    "          kernel_size=kernel_size,\n",
    "          activation='relu')(y)\n",
    "y = MaxPooling2D()(y)\n",
    "y = Conv2D(filters=filters,\n",
    "          kernel_size=kernel_size,\n",
    "          activation='relu')(y)"
   ]
  },
  {
   "cell_type": "markdown",
   "id": "f42439ae",
   "metadata": {},
   "source": [
    "#### Spłaszczenie obrazu, regularyzacja, konstruowanie modelu "
   ]
  },
  {
   "cell_type": "code",
   "execution_count": 8,
   "id": "4dadcba2",
   "metadata": {},
   "outputs": [
    {
     "data": {
      "text/plain": [
       "'\\nFunkcja Dense to warstwa gęsta w sieci neuronowej, \\nktóra jest w pełni połączona. W przypadku klasyfikacji wieloklasowej,\\nzwykle wykorzystuje się ostatnią warstwę gęstą z funkcją aktywacji softmax, \\nktóra zwraca prawdopodobieństwa przynależności do każdej z klas.\\n\\nAby określić liczbę neuronów w warstwie Dense, która odpowiada liczbie klas, \\nmusisz znać liczbę klas w problemie klasyfikacji. W tym przypadku, num_labels jest liczbą klas, \\na warstwa Dense będzie miała num_labels neuronów wyjściowych, \\nktóre reprezentują prawdopodobieństwo przynależności do każdej klasy.\\n\\nNa przykład, jeśli masz problem klasyfikacji obrazów na 10 klas (np. cyfry od 0 do 9), \\nto num_labels będzie wynosiło 10, a warstwa Dense zwróci prawdopodobieństwo przynależności do każdej z tych klas.\\n'"
      ]
     },
     "execution_count": 8,
     "metadata": {},
     "output_type": "execute_result"
    }
   ],
   "source": [
    "y = Flatten()(y)\n",
    "y = Dropout(dropout)(y)\n",
    "outputs = Dense(num_labels,activation='softmax')(y)\n",
    "'''\n",
    "Funkcja Dense to warstwa gęsta w sieci neuronowej, \n",
    "która jest w pełni połączona. W przypadku klasyfikacji wieloklasowej,\n",
    "zwykle wykorzystuje się ostatnią warstwę gęstą z funkcją aktywacji softmax, \n",
    "która zwraca prawdopodobieństwa przynależności do każdej z klas.\n",
    "\n",
    "Aby określić liczbę neuronów w warstwie Dense, która odpowiada liczbie klas, \n",
    "musisz znać liczbę klas w problemie klasyfikacji. W tym przypadku, num_labels jest liczbą klas, \n",
    "a warstwa Dense będzie miała num_labels neuronów wyjściowych, \n",
    "które reprezentują prawdopodobieństwo przynależności do każdej klasy.\n",
    "\n",
    "Na przykład, jeśli masz problem klasyfikacji obrazów na 10 klas (np. cyfry od 0 do 9), \n",
    "to num_labels będzie wynosiło 10, a warstwa Dense zwróci prawdopodobieństwo przynależności do każdej z tych klas.\n",
    "'''\n",
    "\n"
   ]
  },
  {
   "cell_type": "code",
   "execution_count": 10,
   "id": "38b79d41",
   "metadata": {},
   "outputs": [
    {
     "name": "stdout",
     "output_type": "stream",
     "text": [
      "Model: \"model\"\n",
      "_________________________________________________________________\n",
      " Layer (type)                Output Shape              Param #   \n",
      "=================================================================\n",
      " input_1 (InputLayer)        [(None, 28, 28, 1)]       0         \n",
      "                                                                 \n",
      " conv2d (Conv2D)             (None, 26, 26, 64)        640       \n",
      "                                                                 \n",
      " max_pooling2d (MaxPooling2D  (None, 13, 13, 64)       0         \n",
      " )                                                               \n",
      "                                                                 \n",
      " conv2d_1 (Conv2D)           (None, 11, 11, 64)        36928     \n",
      "                                                                 \n",
      " max_pooling2d_1 (MaxPooling  (None, 5, 5, 64)         0         \n",
      " 2D)                                                             \n",
      "                                                                 \n",
      " conv2d_2 (Conv2D)           (None, 3, 3, 64)          36928     \n",
      "                                                                 \n",
      " flatten (Flatten)           (None, 576)               0         \n",
      "                                                                 \n",
      " dropout (Dropout)           (None, 576)               0         \n",
      "                                                                 \n",
      " dense (Dense)               (None, 10)                5770      \n",
      "                                                                 \n",
      "=================================================================\n",
      "Total params: 80,266\n",
      "Trainable params: 80,266\n",
      "Non-trainable params: 0\n",
      "_________________________________________________________________\n"
     ]
    }
   ],
   "source": [
    "#Konstrukcja modelu\n",
    "model = Model(inputs=inputs,outputs=outputs)\n",
    "model.summary()"
   ]
  },
  {
   "cell_type": "code",
   "execution_count": 12,
   "id": "559bfd0b",
   "metadata": {},
   "outputs": [
    {
     "data": {
      "image/png": "[encoded data removed]",
      "text/plain": [
       "<IPython.core.display.Image object>"
      ]
     },
     "execution_count": 12,
     "metadata": {},
     "output_type": "execute_result"
    }
   ],
   "source": [
    "from tensorflow.keras.utils import plot_model\n",
    "plot_model(model,to_file='Funkcyjne API CNN.png',show_shapes=True)"
   ]
  },
  {
   "cell_type": "code",
   "execution_count": 13,
   "id": "9f0eb056",
   "metadata": {},
   "outputs": [],
   "source": [
    "model.compile(loss='categorical_crossentropy',optimizer = 'adam', metrics = ['accuracy'])"
   ]
  },
  {
   "cell_type": "code",
   "execution_count": 15,
   "id": "68b5ea5b",
   "metadata": {},
   "outputs": [
    {
     "name": "stdout",
     "output_type": "stream",
     "text": [
      "Epoch 1/20\n",
      "469/469 [==============================] - 31s 62ms/step - loss: 0.2699 - accuracy: 0.9171 - val_loss: 0.0624 - val_accuracy: 0.9783\n",
      "Epoch 2/20\n",
      "469/469 [==============================] - 33s 70ms/step - loss: 0.0712 - accuracy: 0.9776 - val_loss: 0.0447 - val_accuracy: 0.9862\n",
      "Epoch 3/20\n",
      "469/469 [==============================] - 32s 68ms/step - loss: 0.0484 - accuracy: 0.9850 - val_loss: 0.0299 - val_accuracy: 0.9902\n",
      "Epoch 4/20\n",
      "469/469 [==============================] - 30s 65ms/step - loss: 0.0396 - accuracy: 0.9876 - val_loss: 0.0310 - val_accuracy: 0.9900\n",
      "Epoch 5/20\n",
      "469/469 [==============================] - 30s 63ms/step - loss: 0.0336 - accuracy: 0.9891 - val_loss: 0.0302 - val_accuracy: 0.9897\n",
      "Epoch 6/20\n",
      "469/469 [==============================] - 30s 65ms/step - loss: 0.0286 - accuracy: 0.9909 - val_loss: 0.0241 - val_accuracy: 0.9914\n",
      "Epoch 7/20\n",
      "469/469 [==============================] - 29s 62ms/step - loss: 0.0254 - accuracy: 0.9915 - val_loss: 0.0232 - val_accuracy: 0.9927\n",
      "Epoch 8/20\n",
      "469/469 [==============================] - 29s 62ms/step - loss: 0.0233 - accuracy: 0.9922 - val_loss: 0.0229 - val_accuracy: 0.9929\n",
      "Epoch 9/20\n",
      "469/469 [==============================] - 29s 62ms/step - loss: 0.0204 - accuracy: 0.9936 - val_loss: 0.0201 - val_accuracy: 0.9935\n",
      "Epoch 10/20\n",
      "469/469 [==============================] - 29s 62ms/step - loss: 0.0180 - accuracy: 0.9941 - val_loss: 0.0217 - val_accuracy: 0.9931\n",
      "Epoch 11/20\n",
      "469/469 [==============================] - 29s 62ms/step - loss: 0.0159 - accuracy: 0.9947 - val_loss: 0.0238 - val_accuracy: 0.9921\n",
      "Epoch 12/20\n",
      "469/469 [==============================] - 29s 62ms/step - loss: 0.0155 - accuracy: 0.9948 - val_loss: 0.0254 - val_accuracy: 0.9929\n",
      "Epoch 13/20\n",
      "469/469 [==============================] - 29s 62ms/step - loss: 0.0133 - accuracy: 0.9955 - val_loss: 0.0215 - val_accuracy: 0.9943\n",
      "Epoch 14/20\n",
      "469/469 [==============================] - 29s 62ms/step - loss: 0.0130 - accuracy: 0.9958 - val_loss: 0.0228 - val_accuracy: 0.9933\n",
      "Epoch 15/20\n",
      "469/469 [==============================] - 29s 62ms/step - loss: 0.0122 - accuracy: 0.9956 - val_loss: 0.0227 - val_accuracy: 0.9930\n",
      "Epoch 16/20\n",
      "469/469 [==============================] - 29s 63ms/step - loss: 0.0113 - accuracy: 0.9963 - val_loss: 0.0233 - val_accuracy: 0.9938\n",
      "Epoch 17/20\n",
      "469/469 [==============================] - 29s 62ms/step - loss: 0.0092 - accuracy: 0.9968 - val_loss: 0.0241 - val_accuracy: 0.9933\n",
      "Epoch 18/20\n",
      "469/469 [==============================] - 29s 62ms/step - loss: 0.0096 - accuracy: 0.9970 - val_loss: 0.0257 - val_accuracy: 0.9933\n",
      "Epoch 19/20\n",
      "469/469 [==============================] - 29s 62ms/step - loss: 0.0094 - accuracy: 0.9967 - val_loss: 0.0238 - val_accuracy: 0.9939\n",
      "Epoch 20/20\n",
      "469/469 [==============================] - 29s 62ms/step - loss: 0.0076 - accuracy: 0.9974 - val_loss: 0.0242 - val_accuracy: 0.9944\n"
     ]
    },
    {
     "data": {
      "text/plain": [
       "<keras.callbacks.History at 0x148180cdfa0>"
      ]
     },
     "execution_count": 15,
     "metadata": {},
     "output_type": "execute_result"
    }
   ],
   "source": [
    "model.fit(X_train,y_train,validation_data=(X_test,y_test),epochs=20,batch_size=batch_size)"
   ]
  },
  {
   "cell_type": "code",
   "execution_count": 16,
   "id": "9f7be05e",
   "metadata": {},
   "outputs": [
    {
     "name": "stdout",
     "output_type": "stream",
     "text": [
      "\n",
      "Dokładność na zbiorze testowym: 99.4%\n"
     ]
    }
   ],
   "source": [
    "#Dokładność na zbiorze testowym\n",
    "_, acc = model.evaluate(X_test,y_test,batch_size = batch_size, verbose= 0)\n",
    "print('\\nDokładność na zbiorze testowym: %.1f%%' % (100.0 * acc))"
   ]
  },
  {
   "cell_type": "code",
   "execution_count": null,
   "id": "96ba6a8c",
   "metadata": {},
   "outputs": [],
   "source": []
  }
 ],
 "metadata": {
  "kernelspec": {
   "display_name": "Python 3 (ipykernel)",
   "language": "python",
   "name": "python3"
  },
  "language_info": {
   "codemirror_mode": {
    "name": "ipython",
    "version": 3
   },
   "file_extension": ".py",
   "mimetype": "text/x-python",
   "name": "python",
   "nbconvert_exporter": "python",
   "pygments_lexer": "ipython3",
   "version": "3.9.18"
  }
 },
 "nbformat": 4,
 "nbformat_minor": 5
}
